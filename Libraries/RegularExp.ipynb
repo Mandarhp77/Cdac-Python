{
 "cells": [
  {
   "cell_type": "code",
   "execution_count": 10,
   "id": "0e1f78df",
   "metadata": {},
   "outputs": [
    {
     "name": "stdout",
     "output_type": "stream",
     "text": [
      "['1', '2', '3', '4', '5', '6', '7', '8', '9']\n"
     ]
    }
   ],
   "source": [
    "import re\n",
    "s=\"123456789\"\n",
    "pat=re.findall(\"[1-9]\",s)\n",
    "print(pat)"
   ]
  },
  {
   "cell_type": "code",
   "execution_count": null,
   "id": "73525aae",
   "metadata": {},
   "outputs": [],
   "source": [
    "import re\n",
    "s=\"123456789\"\n",
    "pat=re.findall(\"[1-9]\",s)\n",
    "print(pat)"
   ]
  }
 ],
 "metadata": {
  "kernelspec": {
   "display_name": "Python 3 (ipykernel)",
   "language": "python",
   "name": "python3"
  },
  "language_info": {
   "codemirror_mode": {
    "name": "ipython",
    "version": 3
   },
   "file_extension": ".py",
   "mimetype": "text/x-python",
   "name": "python",
   "nbconvert_exporter": "python",
   "pygments_lexer": "ipython3",
   "version": "3.9.13"
  }
 },
 "nbformat": 4,
 "nbformat_minor": 5
}
