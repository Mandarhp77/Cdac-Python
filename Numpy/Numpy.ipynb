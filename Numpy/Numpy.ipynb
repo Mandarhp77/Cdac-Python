{
 "cells": [
  {
   "cell_type": "code",
   "execution_count": 6,
   "id": "b6225508",
   "metadata": {},
   "outputs": [],
   "source": [
    "import numpy as np"
   ]
  },
  {
   "cell_type": "code",
   "execution_count": 13,
   "id": "f65b15e7",
   "metadata": {},
   "outputs": [
    {
     "name": "stdout",
     "output_type": "stream",
     "text": [
      "1d ---------\n",
      "[1 2 3 4 5 6]\n",
      "(6,)\n",
      "6\n",
      "1\n",
      "int32\n",
      " \n",
      "2d ---------\n",
      "[[1 2 3]\n",
      " [4 5 6]\n",
      " [7 8 9]]\n",
      "(3, 3)\n",
      "9\n",
      "2\n",
      "int32\n",
      " \n",
      "3d ---------\n",
      "[[[ 1  2  3]\n",
      "  [ 4  5  6]\n",
      "  [ 7  8  9]]\n",
      "\n",
      " [[10 11 12]\n",
      "  [13 14 15]\n",
      "  [16 17 18]]\n",
      "\n",
      " [[19 20 21]\n",
      "  [22 23 24]\n",
      "  [25 26 27]]]\n",
      "(3, 3, 3)\n",
      "27\n",
      "3\n",
      "int32\n"
     ]
    }
   ],
   "source": [
    "a=np.arange(1,7,1)\n",
    "b=np.arange(1,10).reshape(3,3)\n",
    "c=np.arange(1,28).reshape(3,3,3)\n",
    "print(\"1d ---------\")\n",
    "print(a)\n",
    "print(a.shape)\n",
    "print(a.size)\n",
    "print(a.ndim)\n",
    "print(a.dtype)\n",
    "print(\" \")\n",
    "print(\"2d ---------\")\n",
    "print(b)\n",
    "print(b.shape)\n",
    "print(b.size)\n",
    "print(b.ndim)\n",
    "print(b.dtype)\n",
    "print(\" \")\n",
    "print(\"3d ---------\")\n",
    "print(c)\n",
    "print(c.shape)\n",
    "print(c.size)\n",
    "print(c.ndim)\n",
    "print(c.dtype)\n",
    "\n",
    "\n"
   ]
  },
  {
   "cell_type": "code",
   "execution_count": 26,
   "id": "73366bd3",
   "metadata": {},
   "outputs": [
    {
     "name": "stdout",
     "output_type": "stream",
     "text": [
      "[4.60601562e-312 0.00000000e+000 4.94065646e-324]\n",
      "[[5 5 5 5 5]\n",
      " [5 5 5 5 5]\n",
      " [5 5 5 5 5]]\n",
      "[[0. 0. 0. 0. 0.]\n",
      " [0. 0. 0. 0. 0.]\n",
      " [0. 0. 0. 0. 0.]]\n",
      "[[1. 1. 1. 1. 1.]\n",
      " [1. 1. 1. 1. 1.]\n",
      " [1. 1. 1. 1. 1.]]\n"
     ]
    }
   ],
   "source": [
    "d = np.empty(3)\n",
    "print(d)\n",
    "f = np.full((3,5),5)\n",
    "print(f)\n",
    "g = np.zeros((3,5))\n",
    "print(g)\n",
    "h = np.ones((3,5))\n",
    "print(h)"
   ]
  },
  {
   "cell_type": "code",
   "execution_count": 31,
   "id": "2af67edf",
   "metadata": {},
   "outputs": [
    {
     "name": "stdout",
     "output_type": "stream",
     "text": [
      "[14 15 16 17 18 19 20 21 22 23 24 25 26 27 28 29 30 31 32 33 34 35 36 37\n",
      " 38 39 40]\n"
     ]
    }
   ],
   "source": [
    "e = np.arange(14,41)\n",
    "print(e)"
   ]
  },
  {
   "cell_type": "code",
   "execution_count": 35,
   "id": "254db49c",
   "metadata": {},
   "outputs": [
    {
     "name": "stdout",
     "output_type": "stream",
     "text": [
      "[[ 1  2  3  4  5]\n",
      " [ 6  7  8  9 10]\n",
      " [11 12 13 14 15]\n",
      " [16 17 18 19 20]\n",
      " [21 22 23 24 25]\n",
      " [26 27 28 29 30]\n",
      " [31 32 33 34 35]\n",
      " [36 37 38 39 40]]\n"
     ]
    }
   ],
   "source": [
    "e = np.arange(1,41).reshape(8,5)\n",
    "print(e)"
   ]
  },
  {
   "cell_type": "code",
   "execution_count": 39,
   "id": "29aea2d4",
   "metadata": {},
   "outputs": [
    {
     "name": "stdout",
     "output_type": "stream",
     "text": [
      "[[ 1  2  3  4  5]\n",
      " [ 6  7  8  9 10]\n",
      " [11 12 13 14 15]\n",
      " [16 17 18 19 20]\n",
      " [21 22 23 24 25]\n",
      " [26 27 28 29 30]\n",
      " [31 32 33 34 35]\n",
      " [36 37 38 39 40]]\n",
      "[[ 1  2  3  4  5  6  7  8  9 10]\n",
      " [11 12 13 14 15 16 17 18 19 20]\n",
      " [21 22 23 24 25 26 27 28 29 30]\n",
      " [31 32 33 34 35 36 37 38 39 40]]\n"
     ]
    }
   ],
   "source": [
    "e = np.arange(1,41).reshape(8,5)\n",
    "print(e)\n",
    "\n",
    "i=e.reshape(4,10)\n",
    "print(i)"
   ]
  },
  {
   "cell_type": "code",
   "execution_count": 49,
   "id": "58b94bb1",
   "metadata": {},
   "outputs": [
    {
     "name": "stdout",
     "output_type": "stream",
     "text": [
      "[[ 1  2  3  4  5  6  7  8  9 10]\n",
      " [11 12 13 14 15 16 17 18 19 20]\n",
      " [21 22 23 24 25 26 27 28 29 30]\n",
      " [31 32 33 34 35 36 37 38 39 40]]\n",
      "[[ 1  2  3  4]\n",
      " [11 12 13 14]\n",
      " [21 22 23 24]]\n",
      "[ 5 15 25]\n",
      "[[21 22 23 24 25 26 27 28 29 30]\n",
      " [31 32 33 34 35 36 37 38 39 40]]\n",
      "[[ 3  4  5]\n",
      " [13 14 15]\n",
      " [23 24 25]\n",
      " [33 34 35]]\n"
     ]
    }
   ],
   "source": [
    "i=e.reshape(4,10)\n",
    "print(i)\n",
    "print(i[:3,:4])\n",
    "print(i[:3,4])\n",
    "print(i[2:4, : ])\n",
    "print(i[:,2:5])"
   ]
  },
  {
   "cell_type": "code",
   "execution_count": 50,
   "id": "310e2fdb",
   "metadata": {},
   "outputs": [
    {
     "name": "stdout",
     "output_type": "stream",
     "text": [
      "[ 1  3  5  7  9 11 13 15 17 19 21 23 25 27 29 31 33 35 37 39]\n"
     ]
    }
   ],
   "source": [
    "j = i[i%2==1]\n",
    "print(j)"
   ]
  },
  {
   "cell_type": "code",
   "execution_count": 57,
   "id": "e5daf266",
   "metadata": {},
   "outputs": [
    {
     "data": {
      "text/plain": [
       "array([[ 1, -1,  3, -1,  5, -1,  7, -1,  9, -1],\n",
       "       [11, -1, 13, -1, 15, -1, 17, -1, 19, -1],\n",
       "       [21, -1, 23, -1, 25, -1, 27, -1, 29, -1],\n",
       "       [31, -1, 33, -1, 35, -1, 37, -1, 39, -1]])"
      ]
     },
     "execution_count": 57,
     "metadata": {},
     "output_type": "execute_result"
    }
   ],
   "source": [
    "k = i\n",
    "k[i%2==0]=-1\n",
    "k"
   ]
  },
  {
   "cell_type": "code",
   "execution_count": 64,
   "id": "907b2957",
   "metadata": {},
   "outputs": [
    {
     "name": "stdout",
     "output_type": "stream",
     "text": [
      "[1 5 3 4 5]\n",
      "[11 13 12 12 14]\n",
      "[ 1  5  3  4  5 11 13 12 12 14]\n"
     ]
    }
   ],
   "source": [
    "l=np.random.randint(1,10,(5))\n",
    "print(l)\n",
    "m=np.random.randint(11,15,(5))\n",
    "print(m)\n",
    "n=np.append(l,m)\n",
    "print(n)\n"
   ]
  },
  {
   "cell_type": "code",
   "execution_count": 89,
   "id": "e5144157",
   "metadata": {},
   "outputs": [
    {
     "name": "stdout",
     "output_type": "stream",
     "text": [
      "[7 2 2 4 8 4 2 4 5 6]\n",
      "[[7 2 2 4 8]\n",
      " [4 2 4 5 6]]\n",
      "[[7 2]\n",
      " [2 4]]\n"
     ]
    }
   ],
   "source": [
    "ab=np.random.randint(1,10,10)\n",
    "print(ab)\n",
    "ab=ab.reshape(2,5)\n",
    "print(ab)\n",
    "ab=np.resize(ab,(2,2))\n",
    "print(ab)"
   ]
  },
  {
   "cell_type": "code",
   "execution_count": 5,
   "id": "4642f6d7",
   "metadata": {},
   "outputs": [
    {
     "name": "stdout",
     "output_type": "stream",
     "text": [
      "[34 27 29 33 27 32 23 22 38 28 26 24]\n",
      "[22 23 24 26 27 27 28 29 32 33 34 38]\n",
      "[38 34 33 32 29 28 27 27 26 24 23 22]\n",
      "[24 26 28 38 22 23 32 27 33 29 27 34]\n"
     ]
    }
   ],
   "source": [
    "o = np.random.randint(16,40,12)\n",
    "print(o)\n",
    "\n",
    "p=np.sort(o)\n",
    "print(p)\n",
    "\n",
    "q=p[::-1]\n",
    "print(q)\n",
    "\n",
    "aa = np.flip(o)\n",
    "print(aa)"
   ]
  },
  {
   "cell_type": "code",
   "execution_count": 101,
   "id": "49258c00",
   "metadata": {},
   "outputs": [
    {
     "name": "stdout",
     "output_type": "stream",
     "text": [
      "[[10 32 23]\n",
      " [ 9 48 35]\n",
      " [10 18 17]\n",
      " [19 43 13]\n",
      " [39 27 27]]\n",
      "****************************************\n",
      "[[14 36 27]\n",
      " [13 52 39]\n",
      " [14 22 21]\n",
      " [23 47 17]\n",
      " [43 31 31]]\n",
      "****************************************\n",
      "[[ 28  72  54]\n",
      " [ 26 104  78]\n",
      " [ 28  44  42]\n",
      " [ 46  94  34]\n",
      " [ 86  62  62]]\n",
      "****************************************\n",
      "[[ 25  69  51]\n",
      " [ 23 101  75]\n",
      " [ 25  41  39]\n",
      " [ 43  91  31]\n",
      " [ 83  59  59]]\n",
      "****************************************\n",
      "[[12 34 25]\n",
      " [11 50 37]\n",
      " [12 20 19]\n",
      " [21 45 15]\n",
      " [41 29 29]]\n",
      "****************************************\n"
     ]
    }
   ],
   "source": [
    "arr=np.random.randint(1,50,(5,3))\n",
    "print(arr)\n",
    "\n",
    "print(\"*\"*40)\n",
    "arr=arr+4\n",
    "print(arr)\n",
    "print(\"*\"*40)\n",
    "\n",
    "arr=arr*2\n",
    "print(arr)\n",
    "print(\"*\"*40)\n",
    "\n",
    "arr=arr-3\n",
    "print(arr)\n",
    "print(\"*\"*40)\n",
    "\n",
    "arr=arr//2\n",
    "print(arr)\n",
    "print(\"*\"*40)"
   ]
  },
  {
   "cell_type": "code",
   "execution_count": 10,
   "id": "35ff07e8",
   "metadata": {},
   "outputs": [
    {
     "name": "stdout",
     "output_type": "stream",
     "text": [
      "[[1 2 3]\n",
      " [4 5 6]\n",
      " [7 8 9]]\n",
      "[[1 2 3]\n",
      " [4 5 6]\n",
      " [7 8 9]]\n",
      "Addition---------------\n",
      "[[ 2  4  6]\n",
      " [ 8 10 12]\n",
      " [14 16 18]]\n",
      "Subtraction---------------\n",
      "[[0 0 0]\n",
      " [0 0 0]\n",
      " [0 0 0]]\n",
      "Multiplication---------------\n",
      "[[ 1  4  9]\n",
      " [16 25 36]\n",
      " [49 64 81]]\n",
      "division---------------\n",
      "[[1. 1. 1.]\n",
      " [1. 1. 1.]\n",
      " [1. 1. 1.]]\n",
      "1\n",
      "9\n"
     ]
    }
   ],
   "source": [
    "r = np.arange(1,10,1).reshape((3,3))\n",
    "print(r)\n",
    "\n",
    "s = np.arange(1,10,1).reshape((3,3))\n",
    "print(s)\n",
    "\n",
    "print(\"Addition---------------\")\n",
    "add = r+s\n",
    "print(add)\n",
    "print(\"Subtraction---------------\")\n",
    "sub = r-s\n",
    "print(sub)\n",
    "print(\"Multiplication---------------\")\n",
    "mult = r*s\n",
    "print(mult)\n",
    "print(\"division---------------\")\n",
    "div = r/s\n",
    "print(div)\n",
    "\n",
    "print(r.min())\n",
    "print(r.max())\n"
   ]
  },
  {
   "cell_type": "code",
   "execution_count": null,
   "id": "36938996",
   "metadata": {},
   "outputs": [],
   "source": []
  }
 ],
 "metadata": {
  "kernelspec": {
   "display_name": "Python 3 (ipykernel)",
   "language": "python",
   "name": "python3"
  },
  "language_info": {
   "codemirror_mode": {
    "name": "ipython",
    "version": 3
   },
   "file_extension": ".py",
   "mimetype": "text/x-python",
   "name": "python",
   "nbconvert_exporter": "python",
   "pygments_lexer": "ipython3",
   "version": "3.9.13"
  }
 },
 "nbformat": 4,
 "nbformat_minor": 5
}
